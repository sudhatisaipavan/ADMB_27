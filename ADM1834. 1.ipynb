{
  "cells": [
    {
      "cell_type": "markdown",
      "metadata": {
        "id": "view-in-github",
        "colab_type": "text"
      },
      "source": [
        "<a href=\"https://colab.research.google.com/github/sudhatisaipavan/ADMB_27/blob/main/ADM1834.%201.ipynb\" target=\"_parent\"><img src=\"https://colab.research.google.com/assets/colab-badge.svg\" alt=\"Open In Colab\"/></a>"
      ]
    },
    {
      "cell_type": "markdown",
      "source": [
        "1. Python Program to Find Prime Numbers in a Given Range"
      ],
      "metadata": {
        "id": "XSG0SnG9Ugsd"
      }
    },
    {
      "cell_type": "code",
      "source": [
        "r=int(input(\"Enter upper limit: \"))\n",
        "for a in range(2,r+1):\n",
        "    k=0\n",
        "    for i in range(2,a//2+1):\n",
        "        if(a%i==0):\n",
        "            k=k+1\n",
        "    if(k<=0):\n",
        "        print(a)"
      ],
      "metadata": {
        "id": "EklkU4KZMoXc",
        "outputId": "3cf82763-9940-4c5d-98c4-30c9007deb11",
        "colab": {
          "base_uri": "https://localhost:8080/"
        }
      },
      "execution_count": null,
      "outputs": [
        {
          "output_type": "stream",
          "name": "stdout",
          "text": [
            "Enter upper limit: 7\n",
            "2\n",
            "3\n",
            "5\n",
            "7\n"
          ]
        }
      ]
    },
    {
      "cell_type": "markdown",
      "source": [
        "2. Python Program to Check Prime Number"
      ],
      "metadata": {
        "id": "792GiwkpUlyd"
      }
    },
    {
      "cell_type": "code",
      "source": [
        "\n",
        "\n",
        "a=int(input(\"Enter number: \"))\n",
        "k=0\n",
        "for i in range(2,a//2+1):\n",
        "    if(a%i==0):\n",
        "        k=k+1\n",
        "if(k<=0):\n",
        "    print(\"Number is prime\")\n",
        "else:\n",
        "    print(\"Number isn't prime\")"
      ],
      "metadata": {
        "id": "v61O1_CQUTAt",
        "outputId": "461df40d-88ff-4f5a-b654-749bbe131a84",
        "colab": {
          "base_uri": "https://localhost:8080/"
        }
      },
      "execution_count": null,
      "outputs": [
        {
          "output_type": "stream",
          "name": "stdout",
          "text": [
            "Enter number: 5\n",
            "Number is prime\n"
          ]
        }
      ]
    },
    {
      "cell_type": "markdown",
      "source": [
        "3. Python Program to Check whether a Number is Prime or Not using Recursion"
      ],
      "metadata": {
        "id": "ivJCUn5gU6Sl"
      }
    },
    {
      "cell_type": "code",
      "source": [
        "def check(n, div = None):\n",
        "    if div is None:\n",
        "        div = n - 1\n",
        "    while div >= 2:\n",
        "        if n % div == 0:\n",
        "            print(\"Number not prime\")\n",
        "            return False\n",
        "        else:\n",
        "            return check(n, div-1)\n",
        "    else:\n",
        "        print(\"Number is prime\")\n",
        "        return 'True'\n",
        "n=int(input(\"Enter number: \"))\n",
        "check(n)"
      ],
      "metadata": {
        "id": "wC7Ma2ntUzGN",
        "outputId": "45378a1d-6143-4889-ab7e-1857208fec0e",
        "colab": {
          "base_uri": "https://localhost:8080/",
          "height": 70
        }
      },
      "execution_count": null,
      "outputs": [
        {
          "output_type": "stream",
          "name": "stdout",
          "text": [
            "Enter number: 5\n",
            "Number is prime\n"
          ]
        },
        {
          "output_type": "execute_result",
          "data": {
            "text/plain": [
              "'True'"
            ],
            "application/vnd.google.colaboratory.intrinsic+json": {
              "type": "string"
            }
          },
          "metadata": {},
          "execution_count": 5
        }
      ]
    },
    {
      "cell_type": "markdown",
      "source": [
        "4. Python Program to Check Whether a Given Number is Perfect Number"
      ],
      "metadata": {
        "id": "b_2fS004VNqe"
      }
    },
    {
      "cell_type": "code",
      "source": [
        "n = int(input(\"Enter any number: \"))\n",
        "sum1 = 0\n",
        "for i in range(1, n):\n",
        "    if(n % i == 0):\n",
        "        sum1 = sum1 + i\n",
        "if (sum1 == n):\n",
        "    print(\"The number is a Perfect number!\")\n",
        "else:\n",
        "    print(\"The number is not a Perfect number!\")"
      ],
      "metadata": {
        "id": "vXcH0FSkVAGV",
        "outputId": "476cd563-7252-42aa-e24a-6984b26f41cd",
        "colab": {
          "base_uri": "https://localhost:8080/"
        }
      },
      "execution_count": null,
      "outputs": [
        {
          "output_type": "stream",
          "name": "stdout",
          "text": [
            "Enter any number: 11\n",
            "The number is not a Perfect number!\n"
          ]
        }
      ]
    },
    {
      "cell_type": "markdown",
      "source": [
        "5. Python Program to Check Armstrong Number"
      ],
      "metadata": {
        "id": "62wUVx72ViTF"
      }
    },
    {
      "cell_type": "code",
      "source": [
        "n=int(input(\"Enter any number: \"))\n",
        "a=list(map(int,str(n)))\n",
        "b=list(map(lambda x:x**3,a))\n",
        "if(sum(b)==n):\n",
        "    print(\"The number is an armstrong number. \")\n",
        "else:\n",
        "    print(\"The number is not an arsmtrong number. \")"
      ],
      "metadata": {
        "id": "oZxPw8f6VP0d",
        "outputId": "28e80206-f65a-48b5-875f-9cbbce76eb45",
        "colab": {
          "base_uri": "https://localhost:8080/"
        }
      },
      "execution_count": null,
      "outputs": [
        {
          "output_type": "stream",
          "name": "stdout",
          "text": [
            "Enter any number: 5\n",
            "The number is not an arsmtrong number. \n"
          ]
        }
      ]
    },
    {
      "cell_type": "markdown",
      "source": [
        "6. Python Program to Find the Sum of Natural Numbers"
      ],
      "metadata": {
        "id": "2a59JuxTVqFl"
      }
    },
    {
      "cell_type": "code",
      "source": [
        "n=int(input(\"Enter a number: \"))\n",
        "sum1 = 0\n",
        "while(n > 0):\n",
        "    sum1=sum1+n\n",
        "    n=n-1\n",
        "print(\"The sum of first n natural numbers is\",sum1)"
      ],
      "metadata": {
        "id": "eFU24bWDVkbt",
        "outputId": "2e45a30d-6a8d-46cc-d957-0323a9ea7fd2",
        "colab": {
          "base_uri": "https://localhost:8080/"
        }
      },
      "execution_count": null,
      "outputs": [
        {
          "output_type": "stream",
          "name": "stdout",
          "text": [
            "Enter a number: 8\n",
            "The sum of first n natural numbers is 36\n"
          ]
        }
      ]
    },
    {
      "cell_type": "markdown",
      "source": [
        "7. Python Program to Check if a Number is a Strong Number"
      ],
      "metadata": {
        "id": "XBX87aslWK_t"
      }
    },
    {
      "cell_type": "code",
      "source": [
        "sum1=0\n",
        "num=int(input(\"Enter a number:\"))\n",
        "temp=num\n",
        "while(num):\n",
        "    i=1\n",
        "    f=1\n",
        "    r=num%10\n",
        "    while(i<=r):\n",
        "        f=f*i\n",
        "        i=i+1\n",
        "    sum1=sum1+f\n",
        "    num=num//10\n",
        "if(sum1==temp):\n",
        "    print(\"The number is a strong number\")\n",
        "else:\n",
        "    print(\"The number is not a strong number\")"
      ],
      "metadata": {
        "id": "FgaYqswEV6Ut",
        "outputId": "7e791685-38ce-44f1-8bea-dd5f5641876d",
        "colab": {
          "base_uri": "https://localhost:8080/"
        }
      },
      "execution_count": null,
      "outputs": [
        {
          "output_type": "stream",
          "name": "stdout",
          "text": [
            "Enter a number:888\n",
            "The number is not a strong number\n"
          ]
        }
      ]
    },
    {
      "cell_type": "markdown",
      "source": [],
      "metadata": {
        "id": "h3B8uuwjWWU1"
      }
    },
    {
      "cell_type": "markdown",
      "source": [
        "8. Python Program to Print Numbers in a Range Without using Loops\n"
      ],
      "metadata": {
        "id": "bY1t9S-KWYSt"
      }
    },
    {
      "cell_type": "code",
      "source": [
        "def printno(upper):\n",
        "    if(upper>0):\n",
        "        printno(upper-1)\n",
        "        print(upper)\n",
        "upper=int(input(\"Enter upper limit: \"))\n",
        "printno(upper)"
      ],
      "metadata": {
        "id": "ChZmDne6WRF9",
        "outputId": "9412181b-1f1f-46b9-fdaa-8cc87475b248",
        "colab": {
          "base_uri": "https://localhost:8080/"
        }
      },
      "execution_count": null,
      "outputs": [
        {
          "output_type": "stream",
          "name": "stdout",
          "text": [
            "Enter upper limit: 7\n",
            "1\n",
            "2\n",
            "3\n",
            "4\n",
            "5\n",
            "6\n",
            "7\n"
          ]
        }
      ]
    },
    {
      "cell_type": "markdown",
      "source": [
        "9. Python Program to Print the Natural Numbers Summation Pattern"
      ],
      "metadata": {
        "id": "nYNcLRyAWrcV"
      }
    },
    {
      "cell_type": "code",
      "source": [
        "n=int(input(\"Enter a number: \"))\n",
        "for j in range(1,n+1):\n",
        "    a=[]\n",
        "    for i in range(1,j+1):\n",
        "        print(i,sep=\" \",end=\" \")\n",
        "        if(i<j):\n",
        "            print(\"+\",sep=\" \",end=\" \")\n",
        "        a.append(i)\n",
        "    print(\"=\",sum(a))\n",
        "\n",
        "print()"
      ],
      "metadata": {
        "id": "nGe4TXxwWiou",
        "outputId": "669a5d43-0912-42fa-ecb6-74b5f752f472",
        "colab": {
          "base_uri": "https://localhost:8080/"
        }
      },
      "execution_count": null,
      "outputs": [
        {
          "output_type": "stream",
          "name": "stdout",
          "text": [
            "Enter a number: 7\n",
            "1 = 1\n",
            "1 + 2 = 3\n",
            "1 + 2 + 3 = 6\n",
            "1 + 2 + 3 + 4 = 10\n",
            "1 + 2 + 3 + 4 + 5 = 15\n",
            "1 + 2 + 3 + 4 + 5 + 6 = 21\n",
            "1 + 2 + 3 + 4 + 5 + 6 + 7 = 28\n",
            "\n"
          ]
        }
      ]
    },
    {
      "cell_type": "markdown",
      "source": [
        "10. Python Program to Find the Prime Factors of a Number"
      ],
      "metadata": {
        "id": "MiNCGrN7W1VN"
      }
    },
    {
      "cell_type": "code",
      "source": [
        "n=int(input(\"Enter an integer:\"))\n",
        "print(\"Factors are:\")\n",
        "i=1\n",
        "while(i<=n):\n",
        "    k=0\n",
        "    if(n%i==0):\n",
        "        j=1\n",
        "        while(j<=i):\n",
        "            if(i%j==0):\n",
        "                k=k+1\n",
        "            j=j+1\n",
        "        if(k==2):\n",
        "            print(i)\n",
        "    i=i+1"
      ],
      "metadata": {
        "id": "5wUA3nWnWvxl",
        "outputId": "95cd75c0-3166-4636-e77c-533a692bbc1c",
        "colab": {
          "base_uri": "https://localhost:8080/"
        }
      },
      "execution_count": null,
      "outputs": [
        {
          "output_type": "stream",
          "name": "stdout",
          "text": [
            "Enter an integer:7\n",
            "Factors are:\n",
            "7\n"
          ]
        }
      ]
    },
    {
      "cell_type": "markdown",
      "source": [
        "11. Python Program to Check If Two Numbers are Amicable Numbers or Not"
      ],
      "metadata": {
        "id": "kubxNXBDXCsW"
      }
    },
    {
      "cell_type": "code",
      "source": [
        "x=int(input('Enter number 1: '))\n",
        "y=int(input('Enter number 2: '))\n",
        "sum1=0\n",
        "sum2=0\n",
        "for i in range(1,x):\n",
        "    if x%i==0:\n",
        "        sum1+=i\n",
        "for j in range(1,y):\n",
        "    if y%j==0:\n",
        "        sum2+=j\n",
        "if(sum1==y and sum2==x):\n",
        "    print('Amicable!')\n",
        "else:\n",
        "    print('Not Amicable!')"
      ],
      "metadata": {
        "id": "bVhPxnxcW7yN",
        "outputId": "91430466-cf1d-44f3-c6d9-56a864d52883",
        "colab": {
          "base_uri": "https://localhost:8080/"
        }
      },
      "execution_count": null,
      "outputs": [
        {
          "output_type": "stream",
          "name": "stdout",
          "text": [
            "Enter number 1: 7\n",
            "Enter number 2: 8\n",
            "Not Amicable!\n"
          ]
        }
      ]
    },
    {
      "cell_type": "markdown",
      "source": [
        "12. Python Program to Find Whether a Number is a Power of Two"
      ],
      "metadata": {
        "id": "JdfibXFdXZn9"
      }
    },
    {
      "cell_type": "code",
      "source": [
        "def is_power_of_two(n):\n",
        "    \"\"\"Return True if n is a power of two.\"\"\"\n",
        "    if n <= 0:\n",
        "        return False\n",
        "    else:\n",
        "        return n & (n - 1) == 0\n",
        "\n",
        "\n",
        "n = int(input('Enter a number: '))\n",
        "\n",
        "if is_power_of_two(n):\n",
        "    print('{} is a power of two.'.format(n))\n",
        "else:\n",
        "    print('{} is not a power of two.'.format(n))"
      ],
      "metadata": {
        "id": "cTcTB7R4XTeW",
        "outputId": "f99ecb09-3776-4636-b10c-3043f4db2f02",
        "colab": {
          "base_uri": "https://localhost:8080/"
        }
      },
      "execution_count": null,
      "outputs": [
        {
          "output_type": "stream",
          "name": "stdout",
          "text": [
            "Enter a number: 7\n",
            "7 is not a power of two.\n"
          ]
        }
      ]
    },
    {
      "cell_type": "markdown",
      "source": [
        "13. Python Program to Calculate the Power using Recursion"
      ],
      "metadata": {
        "id": "t3T4aFu-Xqje"
      }
    },
    {
      "cell_type": "code",
      "source": [
        "def power(base,exp):\n",
        "    if(exp==1):\n",
        "        return(base)\n",
        "    if(exp!=1):\n",
        "        return(base*power(base,exp-1))\n",
        "base=int(input(\"Enter base: \"))\n",
        "exp=int(input(\"Enter exponential value: \"))\n",
        "print(\"Result:\",power(base,exp))"
      ],
      "metadata": {
        "id": "hUSpbmJjXigm",
        "outputId": "e6d2bc89-ef81-4f2b-8ace-fc6b50882642",
        "colab": {
          "base_uri": "https://localhost:8080/"
        }
      },
      "execution_count": null,
      "outputs": [
        {
          "output_type": "stream",
          "name": "stdout",
          "text": [
            "Enter base: 7\n",
            "Enter exponential value: 8\n",
            "Result: 5764801\n"
          ]
        }
      ]
    },
    {
      "cell_type": "markdown",
      "source": [
        "14. Python Program to Find Product of Two Numbers using Recursion"
      ],
      "metadata": {
        "id": "eokUMLcHX0ve"
      }
    },
    {
      "cell_type": "code",
      "source": [
        "def product(a,b):\n",
        "    if(a<b):\n",
        "        return product(b,a)\n",
        "    elif(b!=0):\n",
        "        return(a+product(a,b-1))\n",
        "    else:\n",
        "        return 0\n",
        "a=int(input(\"Enter first number: \"))\n",
        "b=int(input(\"Enter second number: \"))\n",
        "print(\"Product is: \",product(a,b))"
      ],
      "metadata": {
        "id": "AMe_U-tJXuz2",
        "outputId": "d8dd4b2a-d923-4bd1-b7c3-efc72785a1cc",
        "colab": {
          "base_uri": "https://localhost:8080/"
        }
      },
      "execution_count": null,
      "outputs": [
        {
          "output_type": "stream",
          "name": "stdout",
          "text": [
            "Enter first number: 7\n",
            "Enter second number: 5\n",
            "Product is:  35\n"
          ]
        }
      ]
    },
    {
      "cell_type": "markdown",
      "source": [
        "15. Python Program to Find All Perfect Squares in the Given Range"
      ],
      "metadata": {
        "id": "mYy0oyHrX9r2"
      }
    },
    {
      "cell_type": "code",
      "source": [
        "l=int(input(\"Enter lower range: \"))\n",
        "u=int(input(\"Enter upper range: \"))\n",
        "a=[]\n",
        "a=[x for x in range(l,u+1) if (int(x**0.5))**2==x and sum(list(map(int,str(x))))<10]\n",
        "print(a)"
      ],
      "metadata": {
        "id": "YyACHTeYX4Pm",
        "outputId": "e7141fc5-2775-4ee3-babf-b3a535cd2c15",
        "colab": {
          "base_uri": "https://localhost:8080/"
        }
      },
      "execution_count": null,
      "outputs": [
        {
          "output_type": "stream",
          "name": "stdout",
          "text": [
            "Enter lower range: 7\n",
            "Enter upper range: 5\n",
            "[]\n"
          ]
        }
      ]
    },
    {
      "cell_type": "markdown",
      "source": [
        "16. Python Program to Print All Possible Combinations of Three Digits"
      ],
      "metadata": {
        "id": "uR_4bcdFYG4m"
      }
    },
    {
      "cell_type": "code",
      "source": [
        "a=int(input(\"Enter first number:\"))\n",
        "b=int(input(\"Enter second number:\"))\n",
        "c=int(input(\"Enter third number:\"))\n",
        "d=[]\n",
        "d.append(a)\n",
        "d.append(b)\n",
        "d.append(c)\n",
        "for i in range(0,3):\n",
        "    for j in range(0,3):\n",
        "        for k in range(0,3):\n",
        "            if(i!=j&j!=k&k!=i):\n",
        "                print(d[i],d[j],d[k])"
      ],
      "metadata": {
        "id": "d1v-hPD_X_o2",
        "outputId": "95b011ee-2084-4c1e-f825-c7a9e1ea7f10",
        "colab": {
          "base_uri": "https://localhost:8080/"
        }
      },
      "execution_count": null,
      "outputs": [
        {
          "output_type": "stream",
          "name": "stdout",
          "text": [
            "Enter first number:7\n",
            "Enter second number:5\n",
            "Enter third number:2\n",
            "7 5 2\n",
            "7 2 5\n",
            "5 7 2\n",
            "5 2 7\n",
            "2 7 5\n",
            "2 5 7\n"
          ]
        }
      ]
    }
  ],
  "metadata": {
    "colab": {
      "toc_visible": true,
      "provenance": [],
      "include_colab_link": true
    },
    "kernelspec": {
      "display_name": "Python 3",
      "name": "python3"
    }
  },
  "nbformat": 4,
  "nbformat_minor": 0
}